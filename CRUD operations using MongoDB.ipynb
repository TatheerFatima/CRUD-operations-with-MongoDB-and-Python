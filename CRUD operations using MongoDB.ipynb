{
 "cells": [
  {
   "cell_type": "code",
   "execution_count": null,
   "metadata": {},
   "outputs": [],
   "source": [
    "#pip install pymongo"
   ]
  },
  {
   "cell_type": "code",
   "execution_count": 1,
   "metadata": {},
   "outputs": [],
   "source": [
    "import pymongo"
   ]
  },
  {
   "cell_type": "markdown",
   "metadata": {},
   "source": [
    "## Establishing a Connection"
   ]
  },
  {
   "cell_type": "code",
   "execution_count": 6,
   "metadata": {},
   "outputs": [
    {
     "data": {
      "text/plain": [
       "MongoClient(host=['localhost:27017'], document_class=dict, tz_aware=False, connect=True)"
      ]
     },
     "execution_count": 6,
     "metadata": {},
     "output_type": "execute_result"
    }
   ],
   "source": [
    "from pymongo import MongoClient \n",
    "client = MongoClient()\n",
    "client"
   ]
  },
  {
   "cell_type": "markdown",
   "metadata": {},
   "source": [
    "## Creating Database\n",
    "MongoDB will create the database and collections, if they do not exist.\n",
    "MongoDB waits until you have created a collection (table), with at least one document (record/rows) \n",
    "before it actually creates the database (and collection)."
   ]
  },
  {
   "cell_type": "code",
   "execution_count": 3,
   "metadata": {},
   "outputs": [],
   "source": [
    "mydb = client[\"Cars\"]"
   ]
  },
  {
   "cell_type": "markdown",
   "metadata": {},
   "source": [
    "## Creating Collection "
   ]
  },
  {
   "cell_type": "code",
   "execution_count": 4,
   "metadata": {},
   "outputs": [],
   "source": [
    "mycol = mydb[\"Inventory\"]"
   ]
  },
  {
   "cell_type": "markdown",
   "metadata": {},
   "source": [
    "## Inserting Document\n",
    "Every insert_one() method returns a InsertOneResult object, which has a property, inserted_id, \n",
    "that holds the id of the inserted document.\n",
    "\n",
    "If you do not specify an _id field, then MongoDB will add one for you and assign a unique id for each document."
   ]
  },
  {
   "cell_type": "markdown",
   "metadata": {},
   "source": [
    "#### Insert One"
   ]
  },
  {
   "cell_type": "code",
   "execution_count": 5,
   "metadata": {},
   "outputs": [
    {
     "name": "stdout",
     "output_type": "stream",
     "text": [
      "606f82ee5acf8b2e5800b4c1\n"
     ]
    }
   ],
   "source": [
    "mydict = { \"name\": \"BMW\", \"price\": \"Rs.3Cr\" }\n",
    "x = mycol.insert_one(mydict)\n",
    "print(x.inserted_id)"
   ]
  },
  {
   "cell_type": "markdown",
   "metadata": {},
   "source": [
    "#### Insert Many"
   ]
  },
  {
   "cell_type": "code",
   "execution_count": 7,
   "metadata": {},
   "outputs": [
    {
     "name": "stdout",
     "output_type": "stream",
     "text": [
      "[ObjectId('606f84015acf8b2e5800b4c3'), ObjectId('606f84015acf8b2e5800b4c4'), ObjectId('606f84015acf8b2e5800b4c5'), ObjectId('606f84015acf8b2e5800b4c6')]\n"
     ]
    }
   ],
   "source": [
    "mylist = [\n",
    "  { \"name\": \"Civic\", \"price\": \"Rs.2Cr\"},\n",
    "  { \"name\": \"Land Cruiser\", \"price\": \"Rs.5Cr\"},\n",
    "  { \"name\": \"Audi\", \"price\": \"Rs.8Cr\"},\n",
    "  { \"name\": \"Range Rover\", \"price\": \"Rs.5Cr\"},\n",
    "]\n",
    "\n",
    "x = mycol.insert_many(mylist)\n",
    "\n",
    "#print list of the _id values of the inserted documents:\n",
    "print(x.inserted_ids)"
   ]
  },
  {
   "cell_type": "markdown",
   "metadata": {},
   "source": [
    "## DATABASE CREATED!!!"
   ]
  },
  {
   "cell_type": "code",
   "execution_count": 8,
   "metadata": {},
   "outputs": [
    {
     "name": "stdout",
     "output_type": "stream",
     "text": [
      "['Cars', 'admin', 'config', 'local']\n"
     ]
    }
   ],
   "source": [
    "print(client.list_database_names())"
   ]
  },
  {
   "cell_type": "markdown",
   "metadata": {},
   "source": [
    "## COLLECTION CREATED!!!"
   ]
  },
  {
   "cell_type": "code",
   "execution_count": 10,
   "metadata": {},
   "outputs": [
    {
     "name": "stdout",
     "output_type": "stream",
     "text": [
      "['Inventory']\n"
     ]
    }
   ],
   "source": [
    "print(mydb.list_collection_names())"
   ]
  },
  {
   "cell_type": "markdown",
   "metadata": {},
   "source": [
    "## SHOW RECORDS!!!"
   ]
  },
  {
   "cell_type": "code",
   "execution_count": 17,
   "metadata": {},
   "outputs": [
    {
     "name": "stdout",
     "output_type": "stream",
     "text": [
      "{'_id': ObjectId('606f82ee5acf8b2e5800b4c1'), 'name': 'BMW', 'price': 'Rs.3Cr'}\n",
      "{'_id': ObjectId('606f84015acf8b2e5800b4c3'), 'name': 'Civic', 'price': 'Rs.2Cr'}\n",
      "{'_id': ObjectId('606f84015acf8b2e5800b4c4'), 'name': 'Land Cruiser', 'price': 'Rs.5Cr'}\n",
      "{'_id': ObjectId('606f84015acf8b2e5800b4c5'), 'name': 'Audi', 'price': 'Rs.8Cr'}\n",
      "{'_id': ObjectId('606f84015acf8b2e5800b4c6'), 'name': 'Range Rover', 'price': 'Rs.5Cr'}\n"
     ]
    }
   ],
   "source": [
    "for x in mycol.find():\n",
    "  print(x)"
   ]
  },
  {
   "cell_type": "markdown",
   "metadata": {},
   "source": [
    "## Update Records\n",
    "If the query finds more than one record, only the first occurrence is updated.\n",
    "The second parameter is an object defining the new values of the document."
   ]
  },
  {
   "cell_type": "code",
   "execution_count": 19,
   "metadata": {},
   "outputs": [
    {
     "name": "stdout",
     "output_type": "stream",
     "text": [
      "{'_id': ObjectId('606f82ee5acf8b2e5800b4c1'), 'name': 'BMW', 'price': 'Rs.3Cr'}\n",
      "{'_id': ObjectId('606f84015acf8b2e5800b4c3'), 'name': 'Civic', 'price': 'Rs.2Cr'}\n",
      "{'_id': ObjectId('606f84015acf8b2e5800b4c4'), 'name': 'Land Cruiser', 'price': 'Rs.10Cr'}\n",
      "{'_id': ObjectId('606f84015acf8b2e5800b4c5'), 'name': 'Audi', 'price': 'Rs.8Cr'}\n",
      "{'_id': ObjectId('606f84015acf8b2e5800b4c6'), 'name': 'Range Rover', 'price': 'Rs.5Cr'}\n"
     ]
    }
   ],
   "source": [
    "myquery = { \"price\": \"Rs.5Cr\" }\n",
    "newValues = { \"$set\": { \"price\": \"Rs.10Cr\" } }   #The $set operator replaces the value of a field with the specified value \n",
    "                                                #If the field does not exist, it will add a new field with the specified value\n",
    "\n",
    "mycol.update_one(myquery, newValues)\n",
    "\n",
    "for x in mycol.find():\n",
    "  print(x)"
   ]
  },
  {
   "cell_type": "markdown",
   "metadata": {},
   "source": [
    "## Delete Records\n",
    "If the field does not exist, $set will add a new field with the specified value"
   ]
  },
  {
   "cell_type": "code",
   "execution_count": 20,
   "metadata": {},
   "outputs": [
    {
     "name": "stdout",
     "output_type": "stream",
     "text": [
      "{'_id': ObjectId('606f82ee5acf8b2e5800b4c1'), 'name': 'BMW', 'price': 'Rs.3Cr'}\n",
      "{'_id': ObjectId('606f84015acf8b2e5800b4c3'), 'name': 'Civic', 'price': 'Rs.2Cr'}\n",
      "{'_id': ObjectId('606f84015acf8b2e5800b4c5'), 'name': 'Audi', 'price': 'Rs.8Cr'}\n",
      "{'_id': ObjectId('606f84015acf8b2e5800b4c6'), 'name': 'Range Rover', 'price': 'Rs.5Cr'}\n"
     ]
    }
   ],
   "source": [
    "delquery = { \"price\": \"Rs.10Cr\" }\n",
    "\n",
    "mycol.delete_one(delquery)\n",
    "\n",
    "for x in mycol.find():\n",
    "  print(x)"
   ]
  },
  {
   "cell_type": "code",
   "execution_count": null,
   "metadata": {},
   "outputs": [],
   "source": []
  }
 ],
 "metadata": {
  "kernelspec": {
   "display_name": "Python 3",
   "language": "python",
   "name": "python3"
  },
  "language_info": {
   "codemirror_mode": {
    "name": "ipython",
    "version": 3
   },
   "file_extension": ".py",
   "mimetype": "text/x-python",
   "name": "python",
   "nbconvert_exporter": "python",
   "pygments_lexer": "ipython3",
   "version": "3.7.4"
  }
 },
 "nbformat": 4,
 "nbformat_minor": 2
}
